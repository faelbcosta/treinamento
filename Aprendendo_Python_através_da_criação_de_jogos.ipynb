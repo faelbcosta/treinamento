{
  "nbformat": 4,
  "nbformat_minor": 0,
  "metadata": {
    "colab": {
      "name": "Aprendendo Python através da criação de jogos.ipynb",
      "provenance": [],
      "collapsed_sections": [
        "4mxihGQvD2Hg",
        "M7kgbv0MES2_",
        "REI85KLeEeua",
        "PJObVb2CEqis"
      ],
      "include_colab_link": true
    },
    "kernelspec": {
      "name": "python3",
      "display_name": "Python 3"
    },
    "language_info": {
      "name": "python"
    }
  },
  "cells": [
    {
      "cell_type": "markdown",
      "metadata": {
        "id": "view-in-github",
        "colab_type": "text"
      },
      "source": [
        "<a href=\"https://colab.research.google.com/github/faelbcosta/treinamento/blob/main/Aprendendo_Python_atrav%C3%A9s_da_cria%C3%A7%C3%A3o_de_jogos.ipynb\" target=\"_parent\"><img src=\"https://colab.research.google.com/assets/colab-badge.svg\" alt=\"Open In Colab\"/></a>"
      ]
    },
    {
      "cell_type": "markdown",
      "source": [
        "# **Aprendendo a criar jogos em Python**\n",
        "\n",
        "**Objetivo:**\n",
        "\n",
        "Aprender os principais comandos em python através da criação de jogos simples, tais como: Roletinha e Jogo de Cartas 21. Ao final, será criado um encapsulamento dos jogos, para que seja executado a partir de um painel de escolha sobre qual jogo brincar.\n"
      ],
      "metadata": {
        "id": "tKVmlD_VGU_m"
      }
    },
    {
      "cell_type": "markdown",
      "metadata": {
        "id": "4mxihGQvD2Hg"
      },
      "source": [
        "## **Script Jogo Roletinha**\n",
        "\n",
        "---\n",
        "\n"
      ]
    },
    {
      "cell_type": "code",
      "metadata": {
        "id": "4mWVm2nbDqWe"
      },
      "source": [
        "def Roletinha():\n",
        "    import random\n",
        " \n",
        "    aposta = int(input('Quanto você quer apostar? '))\n",
        "    premio = aposta*6\n",
        "    numero = int(input('Digite um número entre 1 e 6? '))\n",
        "    sorteio = random.randint(0,6)\n",
        "    print('O número sorteado foi {}'.format(sorteio))\n",
        "    if sorteio == numero:\n",
        "      print('Parabéns! Você ganhou o prêmio de R$ {} reais'.format(premio))\n",
        "    else:\n",
        "      print('O número escolhido foi {}. Infelizmente você não acertou, tente novamente!'.format(numero))\n",
        "    continua = input('\\nDeseja continuar? (S = Sim ou N = Não) ')\n",
        "    while continua =='S':\n",
        "      aposta = int(input('Quanto você quer apostar? '))\n",
        "      premio = aposta*6\n",
        "      numero = int(input('Digite um número entre 1 e 6? '))\n",
        "      sorteio = random.randint(0,6)\n",
        "      print('O número sorteado foi {}'.format(sorteio))\n",
        "      if sorteio == numero:\n",
        "        print('Parabéns! Você ganhou o prêmio de R$ {} reais'.format(premio))\n",
        "        continua = input('\\nDeseja continuar? (S = Sim ou N = Não) ')\n",
        "      else:\n",
        "        print('O número escolhido foi {}. Infelizmente você não acertou, tente novamente!'.format(numero))\n",
        "        continua = input('\\nDeseja continuar? (S = Sim ou N = Não) ')"
      ],
      "execution_count": 1,
      "outputs": []
    },
    {
      "cell_type": "code",
      "metadata": {
        "colab": {
          "base_uri": "https://localhost:8080/"
        },
        "id": "4ooh9lCoEHTS",
        "outputId": "da4575fd-998f-4463-bb8a-d6247b7dba0a"
      },
      "source": [
        "Roletinha()"
      ],
      "execution_count": 2,
      "outputs": [
        {
          "name": "stdout",
          "output_type": "stream",
          "text": [
            "Quanto você quer apostar? 30\n",
            "Digite um número entre 1 e 6? 5\n",
            "O número sorteado foi 4\n",
            "O número escolhido foi 5. Infelizmente você não acertou, tente novamente!\n",
            "\n",
            "Deseja continuar? (S = Sim ou N = Não) S\n",
            "Quanto você quer apostar? 20\n",
            "Digite um número entre 1 e 6? 3\n",
            "O número sorteado foi 3\n",
            "Parabéns! Você ganhou o prêmio de R$ 120 reais\n",
            "\n",
            "Deseja continuar? (S = Sim ou N = Não) N\n"
          ]
        }
      ]
    },
    {
      "cell_type": "markdown",
      "metadata": {
        "id": "M7kgbv0MES2_"
      },
      "source": [
        "## **Script Jogo de Cartas 21**\n",
        "\n",
        "---\n",
        "\n"
      ]
    },
    {
      "cell_type": "code",
      "metadata": {
        "id": "3f_HSl__Dipz"
      },
      "source": [
        "def JogoCarta21():\n",
        "\n",
        "  import random\n",
        "  continua = 'S'\n",
        "  while continua == 'S':\n",
        "    aposta = int(input('Quanto você deseja apostar? '))\n",
        "    premio = int(aposta*2)\n",
        "    banca = random.randint(12,21)\n",
        "    baralho = [1,2,3,4,5,6,7,8,9,10,10,10,10]\n",
        "    cartas = random.choice(baralho)\n",
        "    print('A carta sorteada foi {}'.format(cartas))\n",
        "    desejo = input('Deseja receber mais uma carta ou parar?-----(Digite [P] para parar ou [C] para comprar uma carta) ')\n",
        "    if desejo == 'P':\n",
        "      banca = random.randint(12,21)\n",
        "      print('\\nO seu total de pontos é {}'.format(cartas))\n",
        "      print('O total de pontos da Banca foi {}'.format(banca))\n",
        "      print('Você perdeu. Tente novamente!')\n",
        "      continua = input('\\nDeseja continuar? (S = Sim ou N = Não) ')\n",
        "    else:\n",
        "      while desejo == 'C':\n",
        "        novacarta = random.choice(baralho)\n",
        "        cartas = cartas + novacarta\n",
        "        if cartas <= 21:\n",
        "          print('A carta sorteada foi {}'.format(novacarta))\n",
        "          print('O seu total de pontos é {}'.format(cartas))\n",
        "          desejo = input('Deseja receber mais uma carta ou parar?-----(Digite [P] para parar ou [C] para comprar uma carta) ')\n",
        "          if desejo == 'P':\n",
        "            print('\\nO seu total de pontos é {}'.format(cartas))\n",
        "            print('O total de pontos da Banca foi {}'.format(banca))\n",
        "            if cartas > banca:\n",
        "                print('Parabéns! Você ganhou a partida e seu prêmio é de R$ {} reais'.format(premio))\n",
        "                desejo == 'P'\n",
        "                continua = input('\\nDeseja continuar? (S = Sim ou N = Não) ')\n",
        "            elif cartas < banca:\n",
        "              print('Você perdeu. Tente novamente!')\n",
        "              desejo == 'P'\n",
        "              continua = input('\\nDeseja continuar? (S = Sim ou N = Não) ')\n",
        "            else:\n",
        "              print('Jogo empatado, a banca ganha. Tente novamente!')\n",
        "              desejo == 'P'\n",
        "              continua = input('\\nDeseja continuar? (S = Sim ou N = Não) ')\n",
        "        else:\n",
        "          print('\\nA carta sorteada foi {}'.format(novacarta))\n",
        "          print('O seu total de pontos é {}'.format(cartas))\n",
        "          print('Você estourou e a banca ganhou com {}'.format(banca))\n",
        "          desejo == 'P'\n",
        "          continua = input('\\nDeseja continuar? (S = Sim ou N = Não) ')"
      ],
      "execution_count": 3,
      "outputs": []
    },
    {
      "cell_type": "code",
      "metadata": {
        "id": "9R7mdnFuP6Fs",
        "colab": {
          "base_uri": "https://localhost:8080/"
        },
        "outputId": "2d3bef4e-1aea-46cc-b713-35b57dce6f33"
      },
      "source": [
        "JogoCarta21()"
      ],
      "execution_count": 4,
      "outputs": [
        {
          "name": "stdout",
          "output_type": "stream",
          "text": [
            "Quanto você deseja apostar? 10\n",
            "A carta sorteada foi 2\n",
            "Deseja receber mais uma carta ou parar?-----(Digite [P] para parar ou [C] para comprar uma carta) C\n",
            "A carta sorteada foi 6\n",
            "O seu total de pontos é 8\n",
            "Deseja receber mais uma carta ou parar?-----(Digite [P] para parar ou [C] para comprar uma carta) C\n",
            "A carta sorteada foi 3\n",
            "O seu total de pontos é 11\n",
            "Deseja receber mais uma carta ou parar?-----(Digite [P] para parar ou [C] para comprar uma carta) C\n",
            "A carta sorteada foi 10\n",
            "O seu total de pontos é 21\n",
            "Deseja receber mais uma carta ou parar?-----(Digite [P] para parar ou [C] para comprar uma carta) P\n",
            "\n",
            "O seu total de pontos é 21\n",
            "O total de pontos da Banca foi 18\n",
            "Parabéns! Você ganhou a partida e seu prêmio é de R$ 20 reais\n",
            "\n",
            "Deseja continuar? (S = Sim ou N = Não) N\n"
          ]
        }
      ]
    },
    {
      "cell_type": "markdown",
      "metadata": {
        "id": "REI85KLeEeua"
      },
      "source": [
        "## **Script Cassino Flai**\n",
        "\n",
        "---\n",
        "\n"
      ]
    },
    {
      "cell_type": "code",
      "metadata": {
        "id": "6-7mjtDvDfPY"
      },
      "source": [
        "def CassinoFlai():\n",
        "  print('Seja bem-vindo ao Cassino da FLAI! \\nVocê pode escolher entre o jogo 1-Roletinha, 2-Cartas 21 ou 3-SAIR.')\n",
        "  escolha = int(input('Digite o número correspondente a sua escolha. '))\n",
        "  if escolha == 1:\n",
        "    Roletinha()\n",
        "    cassino = input('Espero que tenha gostado do jogo. Deseja jogar Cartas 21? S-[Sim] ou N-[Não] ')\n",
        "    if cassino == 'S':\n",
        "      JogoCarta21()\n",
        "    else:\n",
        "      print('Obrigado pela sua participação. Volte Sempre!!!')\n",
        "  elif escolha == 2:\n",
        "    JogoCarta21()\n",
        "    cassino = input('Espero que tenha gostado do jogo. Deseja jogar Roletinha? S-[Sim] ou N-[Não] ')\n",
        "    if cassino == 'S':\n",
        "      Roletinha()\n",
        "    else:\n",
        "      print('Obrigado pela sua participação. Volte Sempre!!!')"
      ],
      "execution_count": 8,
      "outputs": []
    },
    {
      "cell_type": "markdown",
      "metadata": {
        "id": "PJObVb2CEqis"
      },
      "source": [
        "## **Jogo Cassino Flai**\n",
        "\n",
        "---\n",
        "\n"
      ]
    },
    {
      "cell_type": "code",
      "metadata": {
        "id": "Qa36bClnDwlz",
        "colab": {
          "base_uri": "https://localhost:8080/"
        },
        "outputId": "29094eba-0156-4ca2-d5aa-6a1ae5878db3"
      },
      "source": [
        "CassinoFlai()"
      ],
      "execution_count": 9,
      "outputs": [
        {
          "output_type": "stream",
          "name": "stdout",
          "text": [
            "Seja bem-vindo ao Cassino da FLAI! \n",
            "Você pode escolher entre o jogo 1-Roletinha, 2-Cartas 21 ou 3-SAIR.\n",
            "Digite o número correspondente a sua escolha. 1\n",
            "Quanto você quer apostar? 3\n",
            "Digite um número entre 1 e 6? 3\n",
            "O número sorteado foi 5\n",
            "O número escolhido foi 3. Infelizmente você não acertou, tente novamente!\n",
            "\n",
            "Deseja continuar? (S = Sim ou N = Não) S\n",
            "Quanto você quer apostar? 10\n",
            "Digite um número entre 1 e 6? 3\n",
            "O número sorteado foi 0\n",
            "O número escolhido foi 3. Infelizmente você não acertou, tente novamente!\n",
            "\n",
            "Deseja continuar? (S = Sim ou N = Não) N\n",
            "Espero que tenha gostado do jogo. Deseja jogar Cartas 21? S-[Sim] ou N-[Não] N\n",
            "Obrigado pela sua participação. Volte Sempre!!!\n"
          ]
        }
      ]
    },
    {
      "cell_type": "code",
      "source": [
        ""
      ],
      "metadata": {
        "id": "QOKUrXroIjVA"
      },
      "execution_count": null,
      "outputs": []
    }
  ]
}