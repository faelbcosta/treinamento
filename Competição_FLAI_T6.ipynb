{
  "nbformat": 4,
  "nbformat_minor": 5,
  "metadata": {
    "kernelspec": {
      "display_name": "Python 3",
      "language": "python",
      "name": "python3"
    },
    "language_info": {
      "codemirror_mode": {
        "name": "ipython",
        "version": 3
      },
      "file_extension": ".py",
      "mimetype": "text/x-python",
      "name": "python",
      "nbconvert_exporter": "python",
      "pygments_lexer": "ipython3",
      "version": "3.8.8"
    },
    "colab": {
      "name": "Competição_FLAI_T6.ipynb",
      "provenance": [],
      "collapsed_sections": [],
      "include_colab_link": true
    }
  },
  "cells": [
    {
      "cell_type": "markdown",
      "metadata": {
        "id": "view-in-github",
        "colab_type": "text"
      },
      "source": [
        "<a href=\"https://colab.research.google.com/github/faelbcosta/treinamento/blob/main/Competi%C3%A7%C3%A3o_FLAI_T6.ipynb\" target=\"_parent\"><img src=\"https://colab.research.google.com/assets/colab-badge.svg\" alt=\"Open In Colab\"/></a>"
      ]
    },
    {
      "cell_type": "markdown",
      "source": [
        "# **6ª Competição FLAI**\n",
        "\n",
        "Este Notebook tem por objetivo demonstrar como foi elaborado um modelo de Classificação de Machine Learning com o intuito de prever dentre um conjunto de funcionários de uma determinada empresa, quais são os funcionários que irão sair (pedir demissão) nos próximos 02(dois) anos."
      ],
      "metadata": {
        "id": "SH-GNS7hFs_N"
      },
      "id": "SH-GNS7hFs_N"
    },
    {
      "cell_type": "code",
      "metadata": {
        "colab": {
          "base_uri": "https://localhost:8080/"
        },
        "id": "vFCAhgRPbMOI",
        "outputId": "038cebae-a535-4b00-c57f-270004a241aa"
      },
      "source": [
        "# Montando o drive para que possa realizar a importação dos arquivos\n",
        "from google.colab import drive\n",
        "drive.mount('/content/drive')"
      ],
      "id": "vFCAhgRPbMOI",
      "execution_count": 1,
      "outputs": [
        {
          "output_type": "stream",
          "name": "stdout",
          "text": [
            "Mounted at /content/drive\n"
          ]
        }
      ]
    },
    {
      "cell_type": "code",
      "metadata": {
        "id": "72d8205b"
      },
      "source": [
        "# importa as bases de treino e teste que se encontram no Google Drive\n",
        "import pandas as pd\n",
        "\n",
        "treino = pd.read_csv('/content/drive/MyDrive/competicao-6/treino.csv')\n",
        "teste = pd.read_csv('/content/drive/MyDrive/competicao-6/teste.csv')"
      ],
      "id": "72d8205b",
      "execution_count": 2,
      "outputs": []
    },
    {
      "cell_type": "code",
      "metadata": {
        "colab": {
          "base_uri": "https://localhost:8080/",
          "height": 206
        },
        "id": "938e1391",
        "outputId": "1df2a8d8-0c76-4cf5-9449-8020cefeddc5"
      },
      "source": [
        "# verifica a base de treino\n",
        "treino.head()"
      ],
      "id": "938e1391",
      "execution_count": 3,
      "outputs": [
        {
          "output_type": "execute_result",
          "data": {
            "text/html": [
              "\n",
              "  <div id=\"df-06116a1e-b047-4852-a7f2-15bca7793f73\">\n",
              "    <div class=\"colab-df-container\">\n",
              "      <div>\n",
              "<style scoped>\n",
              "    .dataframe tbody tr th:only-of-type {\n",
              "        vertical-align: middle;\n",
              "    }\n",
              "\n",
              "    .dataframe tbody tr th {\n",
              "        vertical-align: top;\n",
              "    }\n",
              "\n",
              "    .dataframe thead th {\n",
              "        text-align: right;\n",
              "    }\n",
              "</style>\n",
              "<table border=\"1\" class=\"dataframe\">\n",
              "  <thead>\n",
              "    <tr style=\"text-align: right;\">\n",
              "      <th></th>\n",
              "      <th>Escolaridade</th>\n",
              "      <th>Entrada</th>\n",
              "      <th>Cidade</th>\n",
              "      <th>Salário</th>\n",
              "      <th>Idade</th>\n",
              "      <th>Sexo</th>\n",
              "      <th>Projeto</th>\n",
              "      <th>Experiência</th>\n",
              "      <th>Saiu</th>\n",
              "      <th>Feedbacks</th>\n",
              "    </tr>\n",
              "  </thead>\n",
              "  <tbody>\n",
              "    <tr>\n",
              "      <th>0</th>\n",
              "      <td>Doutorado</td>\n",
              "      <td>2016</td>\n",
              "      <td>Natal</td>\n",
              "      <td>3</td>\n",
              "      <td>28</td>\n",
              "      <td>Feminino</td>\n",
              "      <td>Não</td>\n",
              "      <td>3</td>\n",
              "      <td>0</td>\n",
              "      <td>0</td>\n",
              "    </tr>\n",
              "    <tr>\n",
              "      <th>1</th>\n",
              "      <td>Doutorado</td>\n",
              "      <td>2014</td>\n",
              "      <td>Natal</td>\n",
              "      <td>3</td>\n",
              "      <td>36</td>\n",
              "      <td>Feminino</td>\n",
              "      <td>Não</td>\n",
              "      <td>3</td>\n",
              "      <td>0</td>\n",
              "      <td>1</td>\n",
              "    </tr>\n",
              "    <tr>\n",
              "      <th>2</th>\n",
              "      <td>Doutorado</td>\n",
              "      <td>2013</td>\n",
              "      <td>Natal</td>\n",
              "      <td>3</td>\n",
              "      <td>---</td>\n",
              "      <td>Masculino</td>\n",
              "      <td>Não</td>\n",
              "      <td>0</td>\n",
              "      <td>0</td>\n",
              "      <td>0</td>\n",
              "    </tr>\n",
              "    <tr>\n",
              "      <th>3</th>\n",
              "      <td>Doutorado</td>\n",
              "      <td>2016</td>\n",
              "      <td>Natal</td>\n",
              "      <td>3</td>\n",
              "      <td>---</td>\n",
              "      <td>Masculino</td>\n",
              "      <td>Não</td>\n",
              "      <td>2</td>\n",
              "      <td>1</td>\n",
              "      <td>0</td>\n",
              "    </tr>\n",
              "    <tr>\n",
              "      <th>4</th>\n",
              "      <td>Doutorado</td>\n",
              "      <td>2018</td>\n",
              "      <td>Natal</td>\n",
              "      <td>3</td>\n",
              "      <td>34</td>\n",
              "      <td>Masculino</td>\n",
              "      <td>Sim</td>\n",
              "      <td>5</td>\n",
              "      <td>1</td>\n",
              "      <td>0</td>\n",
              "    </tr>\n",
              "  </tbody>\n",
              "</table>\n",
              "</div>\n",
              "      <button class=\"colab-df-convert\" onclick=\"convertToInteractive('df-06116a1e-b047-4852-a7f2-15bca7793f73')\"\n",
              "              title=\"Convert this dataframe to an interactive table.\"\n",
              "              style=\"display:none;\">\n",
              "        \n",
              "  <svg xmlns=\"http://www.w3.org/2000/svg\" height=\"24px\"viewBox=\"0 0 24 24\"\n",
              "       width=\"24px\">\n",
              "    <path d=\"M0 0h24v24H0V0z\" fill=\"none\"/>\n",
              "    <path d=\"M18.56 5.44l.94 2.06.94-2.06 2.06-.94-2.06-.94-.94-2.06-.94 2.06-2.06.94zm-11 1L8.5 8.5l.94-2.06 2.06-.94-2.06-.94L8.5 2.5l-.94 2.06-2.06.94zm10 10l.94 2.06.94-2.06 2.06-.94-2.06-.94-.94-2.06-.94 2.06-2.06.94z\"/><path d=\"M17.41 7.96l-1.37-1.37c-.4-.4-.92-.59-1.43-.59-.52 0-1.04.2-1.43.59L10.3 9.45l-7.72 7.72c-.78.78-.78 2.05 0 2.83L4 21.41c.39.39.9.59 1.41.59.51 0 1.02-.2 1.41-.59l7.78-7.78 2.81-2.81c.8-.78.8-2.07 0-2.86zM5.41 20L4 18.59l7.72-7.72 1.47 1.35L5.41 20z\"/>\n",
              "  </svg>\n",
              "      </button>\n",
              "      \n",
              "  <style>\n",
              "    .colab-df-container {\n",
              "      display:flex;\n",
              "      flex-wrap:wrap;\n",
              "      gap: 12px;\n",
              "    }\n",
              "\n",
              "    .colab-df-convert {\n",
              "      background-color: #E8F0FE;\n",
              "      border: none;\n",
              "      border-radius: 50%;\n",
              "      cursor: pointer;\n",
              "      display: none;\n",
              "      fill: #1967D2;\n",
              "      height: 32px;\n",
              "      padding: 0 0 0 0;\n",
              "      width: 32px;\n",
              "    }\n",
              "\n",
              "    .colab-df-convert:hover {\n",
              "      background-color: #E2EBFA;\n",
              "      box-shadow: 0px 1px 2px rgba(60, 64, 67, 0.3), 0px 1px 3px 1px rgba(60, 64, 67, 0.15);\n",
              "      fill: #174EA6;\n",
              "    }\n",
              "\n",
              "    [theme=dark] .colab-df-convert {\n",
              "      background-color: #3B4455;\n",
              "      fill: #D2E3FC;\n",
              "    }\n",
              "\n",
              "    [theme=dark] .colab-df-convert:hover {\n",
              "      background-color: #434B5C;\n",
              "      box-shadow: 0px 1px 3px 1px rgba(0, 0, 0, 0.15);\n",
              "      filter: drop-shadow(0px 1px 2px rgba(0, 0, 0, 0.3));\n",
              "      fill: #FFFFFF;\n",
              "    }\n",
              "  </style>\n",
              "\n",
              "      <script>\n",
              "        const buttonEl =\n",
              "          document.querySelector('#df-06116a1e-b047-4852-a7f2-15bca7793f73 button.colab-df-convert');\n",
              "        buttonEl.style.display =\n",
              "          google.colab.kernel.accessAllowed ? 'block' : 'none';\n",
              "\n",
              "        async function convertToInteractive(key) {\n",
              "          const element = document.querySelector('#df-06116a1e-b047-4852-a7f2-15bca7793f73');\n",
              "          const dataTable =\n",
              "            await google.colab.kernel.invokeFunction('convertToInteractive',\n",
              "                                                     [key], {});\n",
              "          if (!dataTable) return;\n",
              "\n",
              "          const docLinkHtml = 'Like what you see? Visit the ' +\n",
              "            '<a target=\"_blank\" href=https://colab.research.google.com/notebooks/data_table.ipynb>data table notebook</a>'\n",
              "            + ' to learn more about interactive tables.';\n",
              "          element.innerHTML = '';\n",
              "          dataTable['output_type'] = 'display_data';\n",
              "          await google.colab.output.renderOutput(dataTable, element);\n",
              "          const docLink = document.createElement('div');\n",
              "          docLink.innerHTML = docLinkHtml;\n",
              "          element.appendChild(docLink);\n",
              "        }\n",
              "      </script>\n",
              "    </div>\n",
              "  </div>\n",
              "  "
            ],
            "text/plain": [
              "  Escolaridade  Entrada Cidade  Salário  ... Projeto Experiência Saiu  Feedbacks\n",
              "0    Doutorado     2016  Natal        3  ...     Não           3    0          0\n",
              "1    Doutorado     2014  Natal        3  ...     Não           3    0          1\n",
              "2    Doutorado     2013  Natal        3  ...     Não           0    0          0\n",
              "3    Doutorado     2016  Natal        3  ...     Não           2    1          0\n",
              "4    Doutorado     2018  Natal        3  ...     Sim           5    1          0\n",
              "\n",
              "[5 rows x 10 columns]"
            ]
          },
          "metadata": {},
          "execution_count": 3
        }
      ]
    },
    {
      "cell_type": "markdown",
      "source": [
        "## Pré-processamento dos dados"
      ],
      "metadata": {
        "id": "hMqxzlcFJyAT"
      },
      "id": "hMqxzlcFJyAT"
    },
    {
      "cell_type": "code",
      "metadata": {
        "id": "0c4f53d7"
      },
      "source": [
        "# substituição dos valores de Escolaridade\n",
        "treino.loc[treino['Escolaridade'] == '---','Escolaridade']=0\n",
        "teste.loc[teste['Escolaridade'] == '---','Escolaridade']=0\n",
        "treino.loc[treino['Escolaridade'] == 'Doutorado','Escolaridade']=1\n",
        "teste.loc[teste['Escolaridade'] == 'Doutorado','Escolaridade']=1"
      ],
      "id": "0c4f53d7",
      "execution_count": 4,
      "outputs": []
    },
    {
      "cell_type": "code",
      "metadata": {
        "id": "eee10fee"
      },
      "source": [
        "# criando uma função para localizar o ano de entrada\n",
        "def loc_entrada_treino(x):\n",
        "    y = treino['Entrada'].iloc[x]\n",
        "    return y\n",
        "\n",
        "def loc_entrada_teste(x):\n",
        "    y = teste['Entrada'].iloc[x]\n",
        "    return y"
      ],
      "id": "eee10fee",
      "execution_count": 5,
      "outputs": []
    },
    {
      "cell_type": "code",
      "metadata": {
        "id": "5424655f"
      },
      "source": [
        "# cria uma nova coluna para identificar o tempo de Permanencia na empresa\n",
        "treino['Permanencia'] = 0\n",
        "teste['Permanencia'] = 0"
      ],
      "id": "5424655f",
      "execution_count": 6,
      "outputs": []
    },
    {
      "cell_type": "code",
      "metadata": {
        "id": "b49bc18b"
      },
      "source": [
        "# cria função para inserir valores na variável Permanencia\n",
        "def alter_entrada_treino(x):\n",
        "    z = 2021 - loc_entrada_treino(x)\n",
        "    return z"
      ],
      "id": "b49bc18b",
      "execution_count": 7,
      "outputs": []
    },
    {
      "cell_type": "code",
      "metadata": {
        "id": "60fb4a61"
      },
      "source": [
        "# cria função para inserir valores na variável Permanencia\n",
        "def alter_entrada_teste(x):\n",
        "    p = 2021 - loc_entrada_teste(x)\n",
        "    return p"
      ],
      "id": "60fb4a61",
      "execution_count": 8,
      "outputs": []
    },
    {
      "cell_type": "code",
      "metadata": {
        "colab": {
          "base_uri": "https://localhost:8080/"
        },
        "id": "34243972",
        "outputId": "76fabadf-95d4-4308-98ab-dfc27690716d"
      },
      "source": [
        "#inserindo valores na variável permanencia da base treino\n",
        "q = len(treino)\n",
        "r = list(range(0,q))\n",
        "for x in r:\n",
        "    treino['Permanencia'].iloc[x] = alter_entrada_treino(x)"
      ],
      "id": "34243972",
      "execution_count": 9,
      "outputs": [
        {
          "output_type": "stream",
          "name": "stderr",
          "text": [
            "/usr/local/lib/python3.7/dist-packages/pandas/core/indexing.py:670: SettingWithCopyWarning: \n",
            "A value is trying to be set on a copy of a slice from a DataFrame\n",
            "\n",
            "See the caveats in the documentation: https://pandas.pydata.org/pandas-docs/stable/user_guide/indexing.html#returning-a-view-versus-a-copy\n",
            "  iloc._setitem_with_indexer(indexer, value)\n"
          ]
        }
      ]
    },
    {
      "cell_type": "code",
      "metadata": {
        "colab": {
          "base_uri": "https://localhost:8080/"
        },
        "id": "9fb204f3",
        "outputId": "7cf2bf7e-0dd1-4b61-f8d7-5e9e76f6b9a6"
      },
      "source": [
        "#inserindo valores na variável permanencia da base teste\n",
        "f = len(teste)\n",
        "g = list(range(0,f))\n",
        "for x in g:\n",
        "    teste['Permanencia'].iloc[x] = alter_entrada_teste(x)"
      ],
      "id": "9fb204f3",
      "execution_count": 10,
      "outputs": [
        {
          "output_type": "stream",
          "name": "stderr",
          "text": [
            "/usr/local/lib/python3.7/dist-packages/pandas/core/indexing.py:670: SettingWithCopyWarning: \n",
            "A value is trying to be set on a copy of a slice from a DataFrame\n",
            "\n",
            "See the caveats in the documentation: https://pandas.pydata.org/pandas-docs/stable/user_guide/indexing.html#returning-a-view-versus-a-copy\n",
            "  iloc._setitem_with_indexer(indexer, value)\n"
          ]
        }
      ]
    },
    {
      "cell_type": "code",
      "metadata": {
        "id": "4e1b8f71"
      },
      "source": [
        "#deletando as colunas entrada da base treino e teste\n",
        "treino = treino.drop(columns=['Entrada'])\n",
        "teste = teste.drop(columns=['Entrada'])"
      ],
      "id": "4e1b8f71",
      "execution_count": 11,
      "outputs": []
    },
    {
      "cell_type": "code",
      "metadata": {
        "id": "528699e8"
      },
      "source": [
        "# transformando as variáveis categóricas\n",
        "treino = pd.get_dummies(treino, columns = ['Cidade'], dtype=int)\n",
        "teste = pd.get_dummies(teste, columns = ['Cidade'], dtype=int)"
      ],
      "id": "528699e8",
      "execution_count": 12,
      "outputs": []
    },
    {
      "cell_type": "code",
      "metadata": {
        "id": "67a075f9"
      },
      "source": [
        "# substituição dos valores de Salário\n",
        "teste.loc[teste['Salário'] == 1,'Salário']='A'\n",
        "treino.loc[treino['Salário'] == 1,'Salário']='A'\n",
        "teste.loc[teste['Salário'] == 3,'Salário']=1\n",
        "treino.loc[treino['Salário'] == 3,'Salário']=1\n",
        "teste.loc[teste['Salário'] == 'A','Salário']=3\n",
        "treino.loc[treino['Salário'] == 'A','Salário']=3"
      ],
      "id": "67a075f9",
      "execution_count": 13,
      "outputs": []
    },
    {
      "cell_type": "code",
      "metadata": {
        "id": "45f2662a"
      },
      "source": [
        "#transforma os string em numérico\n",
        "treino.loc[treino['Idade'] == '---','Idade']=0\n",
        "teste.loc[teste['Idade'] == '---','Idade']=0"
      ],
      "id": "45f2662a",
      "execution_count": 14,
      "outputs": []
    },
    {
      "cell_type": "code",
      "metadata": {
        "id": "7455f445"
      },
      "source": [
        "#converte o tipo da variável\n",
        "treino['Idade'] = treino['Idade'].astype('int')\n",
        "teste['Idade'] = teste['Idade'].astype('int')"
      ],
      "id": "7455f445",
      "execution_count": 15,
      "outputs": []
    },
    {
      "cell_type": "code",
      "metadata": {
        "id": "932cb99b"
      },
      "source": [
        "# faz a normalização dos dados\n",
        "a = int(treino['Idade'].mean())\n",
        "b = int(teste['Idade'].mean())\n",
        "\n",
        "treino.loc[treino['Idade'] == 0,'Idade']=a\n",
        "teste.loc[teste['Idade'] == 0,'Idade']=b"
      ],
      "id": "932cb99b",
      "execution_count": 16,
      "outputs": []
    },
    {
      "cell_type": "code",
      "metadata": {
        "id": "33060cb5"
      },
      "source": [
        "#transformando variável sexo\n",
        "treino.loc[treino['Sexo'] == 'Masculino','Sexo']=0\n",
        "teste.loc[teste['Sexo'] == 'Masculino','Sexo']=0\n",
        "treino.loc[treino['Sexo'] == 'Feminino','Sexo']=1\n",
        "teste.loc[teste['Sexo'] == 'Feminino','Sexo']=1"
      ],
      "id": "33060cb5",
      "execution_count": 17,
      "outputs": []
    },
    {
      "cell_type": "code",
      "metadata": {
        "id": "0f57a9f1"
      },
      "source": [
        "#transformando variável projetos\n",
        "treino.loc[treino['Projeto'] == '---','Projeto']='ausente'\n",
        "teste.loc[teste['Projeto'] == '---','Projeto']='ausente'"
      ],
      "id": "0f57a9f1",
      "execution_count": 18,
      "outputs": []
    },
    {
      "cell_type": "code",
      "metadata": {
        "id": "76b3d66a"
      },
      "source": [
        "# transformando as variáveis categóricas\n",
        "treino = pd.get_dummies(treino, columns = ['Projeto'], dtype=int)\n",
        "teste = pd.get_dummies(teste, columns = ['Projeto'], dtype=int)"
      ],
      "id": "76b3d66a",
      "execution_count": 19,
      "outputs": []
    },
    {
      "cell_type": "code",
      "metadata": {
        "id": "b19df559"
      },
      "source": [
        "# substituição dos valores de feedback\n",
        "teste.loc[teste['Feedbacks'] == 0,'Feedbacks']='A'\n",
        "treino.loc[treino['Feedbacks'] == 0,'Feedbacks']='A'\n",
        "teste.loc[teste['Feedbacks'] == 1,'Feedbacks']='B'\n",
        "treino.loc[treino['Feedbacks'] == 1,'Feedbacks']='B'\n",
        "teste.loc[teste['Feedbacks'] == 3,'Feedbacks']=1\n",
        "treino.loc[treino['Feedbacks'] == 3,'Feedbacks']=1\n",
        "teste.loc[teste['Feedbacks'] == 4,'Feedbacks']=0\n",
        "treino.loc[treino['Feedbacks'] == 4,'Feedbacks']=0\n",
        "teste.loc[teste['Feedbacks'] == 'A','Feedbacks']=4\n",
        "treino.loc[treino['Feedbacks'] == 'A','Feedbacks']=4\n",
        "teste.loc[teste['Feedbacks'] == 'B','Feedbacks']=3\n",
        "treino.loc[treino['Feedbacks'] == 'B','Feedbacks']=3"
      ],
      "id": "b19df559",
      "execution_count": 20,
      "outputs": []
    },
    {
      "cell_type": "code",
      "metadata": {
        "colab": {
          "base_uri": "https://localhost:8080/"
        },
        "id": "59073abe",
        "outputId": "cbf36196-a77b-4f36-f832-12981099073f"
      },
      "source": [
        "print(treino.dtypes)"
      ],
      "id": "59073abe",
      "execution_count": 21,
      "outputs": [
        {
          "output_type": "stream",
          "name": "stdout",
          "text": [
            "Escolaridade          object\n",
            "Salário               object\n",
            "Idade                  int64\n",
            "Sexo                  object\n",
            "Experiência            int64\n",
            "Saiu                   int64\n",
            "Feedbacks             object\n",
            "Permanencia            int64\n",
            "Cidade_João Pessoa     int64\n",
            "Cidade_Natal           int64\n",
            "Cidade_Recife          int64\n",
            "Projeto_Não            int64\n",
            "Projeto_Sim            int64\n",
            "Projeto_ausente        int64\n",
            "dtype: object\n"
          ]
        }
      ]
    },
    {
      "cell_type": "code",
      "metadata": {
        "id": "293805ab"
      },
      "source": [
        "#converter as variáveis em numéricos\n",
        "treino['Escolaridade'] = treino['Escolaridade'].astype('int')\n",
        "teste['Escolaridade'] = teste['Escolaridade'].astype('int')\n",
        "treino['Salário'] = treino['Salário'].astype('int')\n",
        "teste['Salário'] = teste['Salário'].astype('int')\n",
        "treino['Sexo'] = treino['Sexo'].astype('int')\n",
        "teste['Sexo'] = teste['Sexo'].astype('int')\n",
        "treino['Feedbacks'] = treino['Feedbacks'].astype('int')\n",
        "teste['Feedbacks'] = teste['Feedbacks'].astype('int')"
      ],
      "id": "293805ab",
      "execution_count": 22,
      "outputs": []
    },
    {
      "cell_type": "code",
      "metadata": {
        "colab": {
          "base_uri": "https://localhost:8080/"
        },
        "id": "e07317f0",
        "outputId": "70333b09-8316-4eff-9594-e53d3ad41774"
      },
      "source": [
        "treino['Saiu'].value_counts()"
      ],
      "id": "e07317f0",
      "execution_count": 23,
      "outputs": [
        {
          "output_type": "execute_result",
          "data": {
            "text/plain": [
              "0    1820\n",
              "1    1096\n",
              "Name: Saiu, dtype: int64"
            ]
          },
          "metadata": {},
          "execution_count": 23
        }
      ]
    },
    {
      "cell_type": "code",
      "metadata": {
        "id": "68ee3e5f"
      },
      "source": [
        "# realiza o balanceamento das bases\n",
        "zero  = treino[treino['Saiu']==0]   #zero values in outcome column\n",
        "one = treino[treino['Saiu']==1]  # one values in outcome column\n",
        "from sklearn.utils import resample\n",
        "#df_minority_zero = resample(zero, replace = True, n_samples = 2000) \n",
        "df_minority_one = resample(one, replace = True, n_samples = 1820) \n",
        "\n",
        "# concatena as variáveis \"zero\" e \"one\"\n",
        "treino = pd.concat([df_minority_one, zero])\n",
        "\n",
        "# realiza um ordenamento aleatório das variáveis\n",
        "from sklearn.utils import shuffle\n",
        "treino = shuffle(treino)"
      ],
      "id": "68ee3e5f",
      "execution_count": 24,
      "outputs": []
    },
    {
      "cell_type": "code",
      "metadata": {
        "id": "5b3f4a1d"
      },
      "source": [
        "#Criando variaveis independentes e dependentes\n",
        "\n",
        "X = treino.drop('Saiu',axis=1)\n",
        "y = treino['Saiu']\n",
        "\n",
        "X_teste = teste"
      ],
      "id": "5b3f4a1d",
      "execution_count": 25,
      "outputs": []
    },
    {
      "cell_type": "code",
      "metadata": {
        "id": "3148813e"
      },
      "source": [
        "# Separando em dados teste e treinamento \n",
        "from sklearn.model_selection import train_test_split \n",
        "\n",
        "x_treino, x_teste, y_treino, y_teste  = train_test_split(X, y, test_size = 0.25,random_state = 1)"
      ],
      "id": "3148813e",
      "execution_count": 26,
      "outputs": []
    },
    {
      "cell_type": "markdown",
      "source": [
        "## Modelo de Classificação - Random Forest\n",
        "\n",
        "Para esta competição, utilizou-se somente o modelo de classificação Random Forest para buscar obter um melhor desempenho, realizando diversas tentativas ajustando somente os parâmetros do modelo"
      ],
      "metadata": {
        "id": "slnlw59xJ8xS"
      },
      "id": "slnlw59xJ8xS"
    },
    {
      "cell_type": "code",
      "metadata": {
        "id": "a82c9d6d"
      },
      "source": [
        "# Importando as principais bibliotecas a serem utilizadas\n",
        "from sklearn.linear_model import LogisticRegression\n",
        "from sklearn.tree import DecisionTreeClassifier\n",
        "from sklearn.neighbors import KNeighborsClassifier\n",
        "from sklearn.ensemble import RandomForestClassifier\n",
        "from sklearn.ensemble import BaggingClassifier \n",
        "\n",
        "from sklearn.model_selection import cross_validate\n",
        "from sklearn.model_selection import StratifiedKFold"
      ],
      "id": "a82c9d6d",
      "execution_count": 28,
      "outputs": []
    },
    {
      "cell_type": "code",
      "metadata": {
        "colab": {
          "base_uri": "https://localhost:8080/"
        },
        "id": "97c203da",
        "outputId": "ab8858ad-e7bd-49be-d247-5db3944eec9b"
      },
      "source": [
        "# verificando o desempenho pelo modelo de classificação Random Forest\n",
        "from sklearn.ensemble import RandomForestClassifier\n",
        "\n",
        "validacao_forest = StratifiedKFold(n_splits = 10)\n",
        "\n",
        "modelo_forest = RandomForestClassifier(n_estimators = 1000, random_state = 60, max_depth=90) \n",
        "\n",
        "medidas_accuracy_forest = cross_validate(modelo_forest, X, y, cv = validacao_forest, \n",
        "                                         scoring = 'accuracy')\n",
        "medidas_f1_forest = cross_validate(modelo_forest, X, y, cv = validacao_forest, \n",
        "                                   scoring = 'f1')\n",
        "print('accuracy = ', medidas_accuracy_forest['test_score'].mean())\n",
        "print('f1 = ', medidas_f1_forest['test_score'].mean())"
      ],
      "id": "97c203da",
      "execution_count": 29,
      "outputs": [
        {
          "output_type": "stream",
          "name": "stdout",
          "text": [
            "accuracy =  0.8472527472527472\n",
            "f1 =  0.8509224995911581\n"
          ]
        }
      ]
    },
    {
      "cell_type": "code",
      "metadata": {
        "colab": {
          "base_uri": "https://localhost:8080/"
        },
        "id": "6c6b1332",
        "outputId": "5bc45d66-ac54-44a7-f331-2ae6f2d7cd4f"
      },
      "source": [
        "# realizando o Fit do modelo\n",
        "modelo_forest.fit(X, y)"
      ],
      "id": "6c6b1332",
      "execution_count": 30,
      "outputs": [
        {
          "output_type": "execute_result",
          "data": {
            "text/plain": [
              "RandomForestClassifier(max_depth=90, n_estimators=1000, random_state=60)"
            ]
          },
          "metadata": {},
          "execution_count": 30
        }
      ]
    },
    {
      "cell_type": "code",
      "metadata": {
        "colab": {
          "base_uri": "https://localhost:8080/"
        },
        "id": "7469f5b9",
        "outputId": "60e3340c-ddc3-451e-b2ec-60c92d0b6e45"
      },
      "source": [
        "# executando o modelo na base de teste e realiza a análise da matriz de confusão\n",
        "modelo_final = modelo_forest.predict(x_teste)\n",
        "print(pd.crosstab(y_teste,modelo_final, rownames=['Real'], colnames=['Predito'], margins=True))"
      ],
      "id": "7469f5b9",
      "execution_count": 31,
      "outputs": [
        {
          "output_type": "stream",
          "name": "stdout",
          "text": [
            "Predito    0    1  All\n",
            "Real                  \n",
            "0        420   25  445\n",
            "1         22  443  465\n",
            "All      442  468  910\n"
          ]
        }
      ]
    },
    {
      "cell_type": "code",
      "metadata": {
        "id": "e3bd79e9"
      },
      "source": [
        "# cria um dataframe para obter o modelo para realizar a submissão na competição, considerando somente a variável \"Saiu\"\n",
        "subm_forest = pd.DataFrame()\n",
        "subm_forest['Saiu'] = modelo_final"
      ],
      "id": "e3bd79e9",
      "execution_count": 32,
      "outputs": []
    },
    {
      "cell_type": "code",
      "metadata": {
        "colab": {
          "base_uri": "https://localhost:8080/"
        },
        "id": "986aaed7",
        "outputId": "8f06fc70-3092-4107-dede-c492c64e48d4"
      },
      "source": [
        "# verifica o quantitivo de '0' e '1' do modelo final obtido\n",
        "subm_forest['Saiu'].value_counts()"
      ],
      "id": "986aaed7",
      "execution_count": 33,
      "outputs": [
        {
          "output_type": "execute_result",
          "data": {
            "text/plain": [
              "1    468\n",
              "0    442\n",
              "Name: Saiu, dtype: int64"
            ]
          },
          "metadata": {},
          "execution_count": 33
        }
      ]
    },
    {
      "cell_type": "code",
      "metadata": {
        "id": "cee31cd5"
      },
      "source": [
        "# salva a submissão para postar na competição\n",
        "subm_forest.to_csv('/content/submissão.csv', index = False)"
      ],
      "id": "cee31cd5",
      "execution_count": 34,
      "outputs": []
    }
  ]
}